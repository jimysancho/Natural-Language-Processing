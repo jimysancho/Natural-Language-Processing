{
 "cells": [
  {
   "cell_type": "code",
   "execution_count": 1,
   "id": "005ab176",
   "metadata": {},
   "outputs": [],
   "source": [
    "from vocabulary import Vocabulary\n",
    "from word2vec import Word2Vec\n",
    "import matplotlib.pyplot as plt\n",
    "import numpy as np\n",
    "from sklearn.decomposition import PCA\n",
    "import re\n",
    "from itertools import islice"
   ]
  },
  {
   "cell_type": "code",
   "execution_count": 2,
   "id": "5f31ed26",
   "metadata": {
    "scrolled": false
   },
   "outputs": [
    {
     "name": "stdout",
     "output_type": "stream",
     "text": [
      "55308\n"
     ]
    }
   ],
   "source": [
    "path = './data/timemachine.txt'\n",
    "\n",
    "if path is None:\n",
    "    text =   ('Machine learning is the study of computer algorithms that ' +\n",
    "              'improve automatically through experience. It is seen as a ' + \n",
    "              'subset of artificial intelligence. Machine learning algorithms '+ \n",
    "              'build a mathematical model based on sample data, known as '+ \n",
    "              'training data, in order to make predictions or decisions without ' + \n",
    "              'being explicitly programmed to do so. Machine learning algorithms '+ \n",
    "              'are used in a wide variety of applications, such as email filtering '+ \n",
    "              'and computer vision, where it is difficult or infeasible to develop '+\n",
    "              'conventional algorithms to perform the needed tasks.')\n",
    "    words = text.lower().split(' ')\n",
    "    \n",
    "else:\n",
    "    with open(path, 'r', encoding='utf-8') as f:\n",
    "        file = f.read().strip().lower().split('\\n')\n",
    "        \n",
    "    words = []\n",
    "    for line in file:\n",
    "        words += line.split(' ')\n",
    "    \n",
    "w2v = Word2Vec(Vocabulary(path), dim=300, window_size=2, \n",
    "               lr=0.01, random_state=10, K=2, \n",
    "               distribute=False)\n",
    "print(len(words))"
   ]
  },
  {
   "cell_type": "code",
   "execution_count": null,
   "id": "24f88bb1",
   "metadata": {
    "scrolled": false
   },
   "outputs": [
    {
     "name": "stdout",
     "output_type": "stream",
     "text": [
      "Cost epoch 9th:  71244.14\n",
      "Cost epoch 19th:  59670.442\n"
     ]
    }
   ],
   "source": [
    "cost = []\n",
    "max_words = 20_000\n",
    "words = words[:max_words]\n",
    "\n",
    "for j in range(50):\n",
    "    total_loss = 0\n",
    "    for i in range(w2v.window_size, len(words) - w2v.window_size):\n",
    "        window = [words[i+j] for j in range(-w2v.window_size, w2v.window_size + 1) if j != 0]\n",
    "        center_word = words[i]\n",
    "        loss, n_s_i = w2v.forward(window, center_word)\n",
    "        grads = w2v.backward(window, center_word, n_s_i)            \n",
    "        w2v.update(grads)\n",
    "        total_loss += loss \n",
    "        \n",
    "    #total_loss /= len(words) - 2\n",
    "    \n",
    "    if not ((j + 1) % 10): print(f'Cost epoch {j}th: ', np.round(total_loss, decimals=3))\n",
    "    cost.append(total_loss)\n",
    "\n",
    "plt.plot(cost, '-o')\n",
    "plt.show()"
   ]
  },
  {
   "cell_type": "code",
   "execution_count": null,
   "id": "2cda86a6",
   "metadata": {},
   "outputs": [],
   "source": [
    "if path is not None:\n",
    "    targets = ['time', 'travel', 'lamp', 'edge', 'found']\n",
    "else:\n",
    "    targets = ['machine', 'learning', 'data', 'algorithm', 'computer']\n",
    "    \n",
    "for target in targets:\n",
    "    softmax = w2v.predict(target)\n",
    "    indexes = np.argsort(softmax)[-5:][::-1].astype(int)\n",
    "\n",
    "    for index in indexes:\n",
    "        print(softmax[index], w2v.vocabulary[index])\n",
    "\n",
    "    probable_words = [w2v.vocabulary[index] for index in indexes]\n",
    "    print(target)\n",
    "    print(probable_words)\n",
    "    print('-' * 100)\n",
    "    print('')"
   ]
  },
  {
   "cell_type": "code",
   "execution_count": null,
   "id": "290de6cd",
   "metadata": {
    "scrolled": false
   },
   "outputs": [],
   "source": [
    "pca = PCA(n_components=2)\n",
    "u_pca = pca.fit_transform(w2v.U.T)\n",
    "\n",
    "text = [w2v.vocabulary.index_to_word[key] for key in np.arange(0, len(w2v.vocabulary)-1)]\n",
    "text = text[:50]\n",
    "\n",
    "\n",
    "%matplotlib inline\n",
    "\n",
    "plt.figure(figsize=(25, 10))\n",
    "for i, (x, y) in enumerate(u_pca):\n",
    "    if i >= len(text):\n",
    "        break\n",
    "    else:\n",
    "        plt.text(x, y, s=text[i], \n",
    "                 fontsize=30)\n",
    "\n",
    "plt.axis('off')\n",
    "plt.show()"
   ]
  },
  {
   "cell_type": "code",
   "execution_count": null,
   "id": "1a5842a7",
   "metadata": {},
   "outputs": [],
   "source": []
  }
 ],
 "metadata": {
  "kernelspec": {
   "display_name": "Python 3 (ipykernel)",
   "language": "python",
   "name": "python3"
  },
  "language_info": {
   "codemirror_mode": {
    "name": "ipython",
    "version": 3
   },
   "file_extension": ".py",
   "mimetype": "text/x-python",
   "name": "python",
   "nbconvert_exporter": "python",
   "pygments_lexer": "ipython3",
   "version": "3.9.12"
  }
 },
 "nbformat": 4,
 "nbformat_minor": 5
}
