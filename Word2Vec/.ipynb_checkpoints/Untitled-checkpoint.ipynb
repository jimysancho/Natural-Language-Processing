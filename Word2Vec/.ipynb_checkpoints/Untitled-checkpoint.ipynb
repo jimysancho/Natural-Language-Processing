{
 "cells": [
  {
   "cell_type": "code",
   "execution_count": 3,
   "id": "f8a7da88",
   "metadata": {},
   "outputs": [],
   "source": [
    "from classes.word2vec import Word2Vec\n",
    "from classes.vocabulary import Vocabulary"
   ]
  },
  {
   "cell_type": "code",
   "execution_count": null,
   "id": "8f14c5bc",
   "metadata": {},
   "outputs": [],
   "source": []
  }
 ],
 "metadata": {
  "kernelspec": {
   "display_name": "Python 3 (ipykernel)",
   "language": "python",
   "name": "python3"
  },
  "language_info": {
   "codemirror_mode": {
    "name": "ipython",
    "version": 3
   },
   "file_extension": ".py",
   "mimetype": "text/x-python",
   "name": "python",
   "nbconvert_exporter": "python",
   "pygments_lexer": "ipython3",
   "version": "3.9.12"
  }
 },
 "nbformat": 4,
 "nbformat_minor": 5
}
